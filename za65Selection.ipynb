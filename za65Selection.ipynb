{
 "cells": [
  {
   "cell_type": "code",
   "execution_count": 1,
   "metadata": {},
   "outputs": [
    {
     "name": "stdout",
     "output_type": "stream",
     "text": [
      "Welcome to JupyROOT 6.20/04\n"
     ]
    }
   ],
   "source": [
    "import pylhe\n",
    "import ROOT\n",
    "import math\n",
    "import os\n",
    "import pandas as pd\n",
    "import uproot\n",
    "import numpy as np\n",
    "import matplotlib.pyplot as plt\n",
    "import time\n",
    "\n",
    "t1 = time.time()"
   ]
  },
  {
   "cell_type": "code",
   "execution_count": 2,
   "metadata": {},
   "outputs": [],
   "source": [
    "##### setting file path #####\n",
    "\n",
    "sig_rootpath = \"/data/Chen-Wang/zaSIG65/Events/run_01/tag_1_delphes_events.root\"\n",
    "sig_file = uproot.open(sig_rootpath)\n",
    "\n",
    "bg_rootpath = \"/data/Chen-Wang/llaaBGlarge/Events/run_01/tag_1_delphes_events.root\"\n",
    "bg_file = uproot.open(bg_rootpath)"
   ]
  },
  {
   "cell_type": "code",
   "execution_count": 3,
   "metadata": {},
   "outputs": [],
   "source": [
    "##### set signal event content #####\n",
    "\n",
    "sig_events = [sig_file[\"Delphes;1\"][\"Electron\"].array(),\n",
    "              sig_file[\"Delphes;1\"][\"Electron.PT\"].array(),\n",
    "              sig_file[\"Delphes;1\"][\"Electron.Phi\"].array(),\n",
    "              sig_file[\"Delphes;1\"][\"Electron.Eta\"].array(),\n",
    "              sig_file[\"Delphes;1\"][\"Muon\"].array(),\n",
    "              sig_file[\"Delphes;1\"][\"Muon.PT\"].array(),\n",
    "              sig_file[\"Delphes;1\"][\"Muon.Phi\"].array(),\n",
    "              sig_file[\"Delphes;1\"][\"Muon.Eta\"].array(),\n",
    "              sig_file[\"Delphes;1\"][\"Photon\"].array(),\n",
    "              sig_file[\"Delphes;1\"][\"Photon.PT\"].array(),\n",
    "              sig_file[\"Delphes;1\"][\"Photon.Phi\"].array(),\n",
    "              sig_file[\"Delphes;1\"][\"Photon.Eta\"].array()\n",
    "             ]\n",
    "\n",
    "sig_events = np.expand_dims(sig_events, axis=-1)    ### reshape data\n",
    "sig_events = sig_events.transpose((1,0,2))\n",
    "sig_events = np.squeeze(sig_events,axis=(2,))\n",
    "\n",
    "##### set background event content #####\n",
    "\n",
    "bg_events = [bg_file[\"Delphes;1\"][\"Electron\"].array(),\n",
    "             bg_file[\"Delphes;1\"][\"Electron.PT\"].array(),\n",
    "             bg_file[\"Delphes;1\"][\"Electron.Phi\"].array(),\n",
    "             bg_file[\"Delphes;1\"][\"Electron.Eta\"].array(),\n",
    "             bg_file[\"Delphes;1\"][\"Muon\"].array(),\n",
    "             bg_file[\"Delphes;1\"][\"Muon.PT\"].array(),\n",
    "             bg_file[\"Delphes;1\"][\"Muon.Phi\"].array(),\n",
    "             bg_file[\"Delphes;1\"][\"Muon.Eta\"].array(),\n",
    "             bg_file[\"Delphes;1\"][\"Photon\"].array(),\n",
    "             bg_file[\"Delphes;1\"][\"Photon.PT\"].array(),\n",
    "             bg_file[\"Delphes;1\"][\"Photon.Phi\"].array(),\n",
    "             bg_file[\"Delphes;1\"][\"Photon.Eta\"].array()\n",
    "             ]\n",
    "\n",
    "bg_events = np.expand_dims(bg_events, axis=-1)    ### reshape data\n",
    "bg_events = bg_events.transpose((1,0,2))\n",
    "bg_events = np.squeeze(bg_events,axis=(2,))\n",
    "\n",
    "##### event features #####\n",
    "\n",
    "features = [\"Electron\", \"Electron.PT\", \"Electron.Phi\", \"Electron.Eta\", \"Muon\", \"Muon.PT\", \"Muon.Phi\", \"Muon.Eta\", \"Photon\", \"Photon.PT\", \"Photon.Phi\", \"Photon.Eta\"]\n",
    "electron_mass = 0.000511\n",
    "muon_mass = 0.10566"
   ]
  },
  {
   "cell_type": "code",
   "execution_count": 4,
   "metadata": {},
   "outputs": [],
   "source": [
    "################################\n",
    "##### Some useful function #####\n",
    "################################\n",
    "\n",
    "##### select if =2 photon #####\n",
    "\n",
    "def photon_selection(events):\n",
    "    where1 = np.where(events[:,8]==2)    ### 8:number of photon\n",
    "    return events[where1]\n",
    "\n",
    "##### select if =2 lepton #####\n",
    "\n",
    "def lepton_selection(events):\n",
    "    where_electron = np.where(events[:,0]==2)    ### 0:number of electron\n",
    "    where_muon = np.where(events[:,4]==2)    ### 4:number of muon\n",
    "    return events[where_electron], events[where_muon]\n",
    "\n",
    "##### calculate m_ll #####\n",
    "\n",
    "def m_ll(events, m_ll):\n",
    "    where1 = []\n",
    "    where_select = []\n",
    "    for i in range(len(events)):\n",
    "        p = [0,0,0,0]    ### four momentum\n",
    "        if events[i][0]==2:    ### electron case\n",
    "            for j in range(2):\n",
    "                pt = events[i][1][j]    ### 1:electron transverse momentum\n",
    "                phi = events[i][2][j]    ### 2:electron polar angle\n",
    "                eta = events[i][3][j]    ### 3:electron pseudorapidity\n",
    "                p[1] = p[1] + pt*np.cos(phi)    ### px\n",
    "                p[2] = p[2] + pt*np.sin(phi)    ### py\n",
    "                p[3] = p[3] + pt*np.sinh(eta)    ### pz\n",
    "                p[0] = p[0] + np.sqrt( electron_mass**2 + (pt*np.cos(phi))**2 + (pt*np.sin(phi))**2 + (pt*np.sinh(eta))**2 )    ### energy\n",
    "        elif events[i][4]==2:    ### muon case\n",
    "            for j in range(2):\n",
    "                pt = events[i][5][j]    ### 5:muon transverse momentum\n",
    "                phi = events[i][6][j]    ### 6:muon polar angle\n",
    "                eta = events[i][7][j]    ### 7:muon pseudorapidity\n",
    "                p[1] = p[1] + pt*np.cos(phi)    ### px\n",
    "                p[2] = p[2] + pt*np.sin(phi)    ### py\n",
    "                p[3] = p[3] + pt*np.sinh(eta)    ### pz\n",
    "                p[0] = p[0] + np.sqrt( muon_mass**2 + (pt*np.cos(phi))**2 + (pt*np.sin(phi))**2 + (pt*np.sinh(eta))**2 )    ### energy\n",
    "        mll = np.sqrt(p[0]**2 - p[1]**2 - p[2]**2 - p[3]**2)\n",
    "        if 30<=mll<=250:\n",
    "            m_ll.append(mll)\n",
    "            where1.append(i)\n",
    "        if 80<=mll<=100:\n",
    "            where_select.append(i)\n",
    "    return events[where1], events[where_select]\n",
    "\n",
    "##### calculate m_aa and pT_aa #####\n",
    "\n",
    "def m_aa(events, m_aa, pT_aa):\n",
    "    for i in range(len(events)):\n",
    "        p = [0,0,0,0]    ### four momentum\n",
    "        for j in range(events[i][8]):\n",
    "            pt = events[i][9][j]    ### 9:photon transverse momentum\n",
    "            phi = events[i][10][j]    ### 10:photon polar angle\n",
    "            eta = events[i][11][j]    ### 11:photon pseudorapidity\n",
    "            p[1] = p[1] + pt*np.cos(phi)    ### px\n",
    "            p[2] = p[2] + pt*np.sin(phi)    ### py\n",
    "            p[3] = p[3] + pt*np.sinh(eta)    ### pz\n",
    "            p[0] = p[0] + np.sqrt( (pt*np.cos(phi))**2 + (pt*np.sin(phi))**2 + (pt*np.sinh(eta))**2 )    ### energy with photon mass=0\n",
    "        maa = np.sqrt(p[0]**2 - p[1]**2 - p[2]**2 - p[3]**2)\n",
    "        m_aa.append(maa)\n",
    "        pTaa = np.sqrt(p[1]**2 + p[2]**2)\n",
    "        pT_aa.append(pTaa)\n",
    "        \n",
    "##### select pT_aa #####\n",
    "\n",
    "def select_pT_aa(events):\n",
    "    where1 = []\n",
    "    for i in range(len(events)):\n",
    "        p = [0,0,0,0]    ### four momentum\n",
    "        for j in range(events[i][8]):\n",
    "            pt = events[i][9][j]    ### 9:photon transverse momentum\n",
    "            phi = events[i][10][j]    ### 10:photon polar angle\n",
    "            p[1] = p[1] + pt*np.cos(phi)    ### px\n",
    "            p[2] = p[2] + pt*np.sin(phi)    ### py\n",
    "        pTaa = np.sqrt(p[1]**2 + p[2]**2)\n",
    "        if pTaa>=80:\n",
    "            where1.append(i)\n",
    "    return events[where1]\n",
    "\n",
    "##### select m_aa #####\n",
    "\n",
    "def select_m_aa(events):\n",
    "    where1 = []\n",
    "    for i in range(len(events)):\n",
    "        p = [0,0,0,0]    ### four momentum\n",
    "        for j in range(events[i][8]):\n",
    "            pt = events[i][9][j]    ### 9:photon transverse momentum\n",
    "            phi = events[i][10][j]    ### 10:photon polar angle\n",
    "            eta = events[i][11][j]    ### 11:photon pseudorapidity\n",
    "            p[1] = p[1] + pt*np.cos(phi)    ### px\n",
    "            p[2] = p[2] + pt*np.sin(phi)    ### py\n",
    "            p[3] = p[3] + pt*np.sinh(eta)    ### pz\n",
    "            p[0] = p[0] + np.sqrt( (pt*np.cos(phi))**2 + (pt*np.sin(phi))**2 + (pt*np.sinh(eta))**2 )    ### energy with photon mass=0\n",
    "        maa = np.sqrt(p[0]**2 - p[1]**2 - p[2]**2 - p[3]**2)\n",
    "        if 58.5<=maa<=71.5:\n",
    "            where1.append(i)\n",
    "    return events[where1]\n",
    "        \n",
    "##### Get Eta data #####\n",
    "\n",
    "def collect_eta(events, eta):\n",
    "    for i in range(len(events)):\n",
    "        for j in range(events[i][8]):    ### 8:number of photon\n",
    "            eta.append(events[i][11][j])    ### 11:photon pseudorapidity\n",
    "            \n",
    "##### calculate significance Z #####\n",
    "\n",
    "def significance(s,b):\n",
    "    return np.sqrt(2*((s+b)*np.log(1+s/b)-s))\n",
    "\n",
    "##### calculate expectation signal event that Z=2 #####\n",
    "\n",
    "def Z2(b):\n",
    "    bot = 0\n",
    "    top = b\n",
    "    Z = 999\n",
    "    Zdiff = 0.00000000001\n",
    "    while abs(Z-2)>Zdiff:\n",
    "        if significance((bot+top)/2, b)>2:\n",
    "            top = (bot+top)/2\n",
    "            Z = significance(top, b)\n",
    "        elif significance((bot+top)/2, b)<2:\n",
    "            bot = (bot+top)/2\n",
    "            Z = significance(bot, b)\n",
    "        #print(bot, top)\n",
    "    exp_s = (top+bot)/2\n",
    "    print(\"expectation signal events that Z=2:\", exp_s, \"\\nexpected significance:\", significance(exp_s, b))\n",
    "    return exp_s\n",
    "\n",
    "##### calculate significance with systematic uncertainty #####\n",
    "\n",
    "def error_significance(s,b):\n",
    "    sigma = 0.1*b\n",
    "    return np.sqrt(2*( (s+b)*np.log((s+b)*(b+sigma**2)/(b**2+(s+b)*sigma**2)) - (b**2/sigma**2)*np.log(1+(sigma**2*s/(b*(b+sigma**2))) ) ))\n",
    "\n",
    "##### calculate expectation signal event that Z=2 with systematic uncertainty #####\n",
    "\n",
    "def error_Z2(b):\n",
    "    bot = 0\n",
    "    top = b+20\n",
    "    Z = 999\n",
    "    Zdiff = 0.00000000001\n",
    "    while abs(Z-2)>Zdiff:\n",
    "        if error_significance((bot+top)/2, b)>2:\n",
    "            top = (bot+top)/2\n",
    "            Z = error_significance(top, b)\n",
    "        elif error_significance((bot+top)/2, b)<2:\n",
    "            bot = (bot+top)/2\n",
    "            Z = error_significance(bot, b)\n",
    "        #print(bot, top)\n",
    "    exp_s = (top+bot)/2\n",
    "    print(\"expectation signal events with systematic uncertainty that Z=2:\", exp_s, \"\\nexpected significance with systematic uncertainty:\", error_significance(exp_s, b))\n",
    "    return exp_s"
   ]
  },
  {
   "cell_type": "code",
   "execution_count": 5,
   "metadata": {},
   "outputs": [
    {
     "name": "stdout",
     "output_type": "stream",
     "text": [
      "total signal events: 10000\n",
      "2 photon selection: 3618\n",
      "2 electron events: 643\n",
      "2 muon events: 928\n",
      "\n",
      "total background events: 100000\n",
      "2 photon selection: 41667\n",
      "2 electron events: 7119\n",
      "2 muon events: 11341\n"
     ]
    }
   ],
   "source": [
    "##### signal events selection #####\n",
    "\n",
    "print(\"total signal events:\", len(sig_events))\n",
    "sig_events = photon_selection(sig_events)\n",
    "print(\"2 photon selection:\", len(sig_events))\n",
    "sig_electron_events, sig_muon_events = lepton_selection(sig_events)\n",
    "print(\"2 electron events:\", len(sig_electron_events))\n",
    "print(\"2 muon events:\", len(sig_muon_events))\n",
    "\n",
    "##### background events selection #####\n",
    "\n",
    "print(\"\\ntotal background events:\", len(bg_events))\n",
    "bg_events = photon_selection(bg_events)\n",
    "print(\"2 photon selection:\", len(bg_events))\n",
    "bg_electron_events, bg_muon_events = lepton_selection(bg_events)\n",
    "print(\"2 electron events:\", len(bg_electron_events))\n",
    "print(\"2 muon events:\", len(bg_muon_events))"
   ]
  },
  {
   "cell_type": "code",
   "execution_count": 6,
   "metadata": {},
   "outputs": [
    {
     "data": {
      "image/png": "[encoded data removed]",
      "text/plain": [
       "<Figure size 640x480 with 1 Axes>"
      ]
     },
     "metadata": {},
     "output_type": "display_data"
    },
    {
     "name": "stdout",
     "output_type": "stream",
     "text": [
      "signal events: 1567\n",
      "background events: 17515\n",
      "\n",
      "selected signal events: 1447\n",
      "selected background events: 2487\n"
     ]
    }
   ],
   "source": [
    "##### plot m_ll #####\n",
    "\n",
    "sig_m_ll = []\n",
    "bg_m_ll = []\n",
    "\n",
    "sig_electron_events, sig_electron_select = m_ll(sig_electron_events, sig_m_ll)\n",
    "sig_muon_events, sig_muon_select = m_ll(sig_muon_events, sig_m_ll)\n",
    "\n",
    "bg_electron_events, bg_electron_select = m_ll(bg_electron_events, bg_m_ll)\n",
    "bg_muon_events, bg_muon_select = m_ll(bg_muon_events, bg_m_ll)\n",
    "\n",
    "bins = np.arange(30,250,5)\n",
    "plt.hist(sig_m_ll, bins=bins, label=\"signal\", histtype='step')\n",
    "plt.hist(bg_m_ll, bins=bins, label=\"background\", histtype='step')\n",
    "plt.axvline(80, color='r')\n",
    "plt.axvline(100, color='r')\n",
    "plt.xlabel(r\"$m_{ll}$(GeV)\")\n",
    "plt.ylabel(r\"$\\frac{dN}{dx}$\")\n",
    "#plt.text(170,320,\"1745 signal events\")\n",
    "#plt.text(170,300,\"1707 background events\")\n",
    "plt.legend(loc='best')\n",
    "plt.show()\n",
    "\n",
    "print(\"signal events:\", len(sig_m_ll))\n",
    "print(\"background events:\", len(bg_m_ll))\n",
    "\n",
    "print(\"\\nselected signal events:\", len(sig_electron_select)+len(sig_muon_select))\n",
    "print(\"selected background events:\", len(bg_electron_select)+len(bg_muon_select))"
   ]
  },
  {
   "cell_type": "code",
   "execution_count": 7,
   "metadata": {},
   "outputs": [
    {
     "data": {
      "image/png": "[encoded data removed]",
      "text/plain": [
       "<Figure size 640x480 with 1 Axes>"
      ]
     },
     "metadata": {},
     "output_type": "display_data"
    },
    {
     "data": {
      "image/png": "[encoded data removed]",
      "text/plain": [
       "<Figure size 640x480 with 1 Axes>"
      ]
     },
     "metadata": {},
     "output_type": "display_data"
    }
   ],
   "source": [
    "##### plot m_aa and pT_aa #####\n",
    "\n",
    "sig_m_aa = []\n",
    "bg_m_aa = []\n",
    "sig_pT_aa = []\n",
    "bg_pT_aa = []\n",
    "\n",
    "m_aa(sig_electron_events, sig_m_aa, sig_pT_aa)\n",
    "m_aa(sig_muon_events, sig_m_aa, sig_pT_aa)\n",
    "\n",
    "m_aa(bg_electron_events, bg_m_aa, bg_pT_aa)\n",
    "m_aa(bg_muon_events, bg_m_aa, bg_pT_aa)\n",
    "\n",
    "bins = np.arange(30,150,2.5)\n",
    "plt.hist(sig_m_aa, bins=bins, label=\"signal\", histtype='step')\n",
    "plt.hist(bg_m_aa, bins=bins, label=\"background\", histtype='step')\n",
    "plt.axvline(58.5, color='r')\n",
    "plt.axvline(71.5, color='r')\n",
    "plt.xlabel(r\"$m_{\\gamma \\gamma}$(GeV)\")\n",
    "plt.ylabel(r\"$\\frac{dN}{dx}$\")\n",
    "plt.text(90, 250,\"ALP mass: 65GeV\")\n",
    "plt.legend(loc='best')\n",
    "plt.show()\n",
    "\n",
    "bins = np.arange(30,700,10)\n",
    "plt.hist(sig_pT_aa, bins=bins, label=\"signal\", histtype='step')\n",
    "plt.hist(bg_pT_aa, bins=bins, label=\"background\", histtype='step')\n",
    "plt.axvline(80, color='r')\n",
    "plt.text(90, 400, \"pT=80GeV\", color='r')\n",
    "plt.xlabel(r\"$pT_{\\gamma \\gamma}$(GeV)\")\n",
    "plt.ylabel(r\"$\\frac{dN}{dx}$\")\n",
    "plt.legend(loc='best')\n",
    "plt.show()"
   ]
  },
  {
   "cell_type": "code",
   "execution_count": 8,
   "metadata": {},
   "outputs": [
    {
     "name": "stdout",
     "output_type": "stream",
     "text": [
      "signal events after pT_aa selection: 1108\n",
      "background events after pT_aa selection: 304\n",
      "\n",
      "signal events after m_aa selection: 1095\n",
      "background events after m_aa selection: 24\n"
     ]
    }
   ],
   "source": [
    "##### select pT_aa #####\n",
    "\n",
    "sig_electron_select = select_pT_aa(sig_electron_select)\n",
    "sig_muon_select = select_pT_aa(sig_muon_select)\n",
    "\n",
    "bg_electron_select = select_pT_aa(bg_electron_select)\n",
    "bg_muon_select = select_pT_aa(bg_muon_select)\n",
    "\n",
    "print(\"signal events after pT_aa selection:\", len(sig_electron_select)+len(sig_muon_select))\n",
    "print(\"background events after pT_aa selection:\", len(bg_electron_select)+len(bg_muon_select))\n",
    "\n",
    "##### select m_aa #####\n",
    "\n",
    "sig_electron_select = select_m_aa(sig_electron_select)\n",
    "sig_muon_select = select_m_aa(sig_muon_select)\n",
    "\n",
    "bg_electron_select = select_m_aa(bg_electron_select)\n",
    "bg_muon_select = select_m_aa(bg_muon_select)\n",
    "\n",
    "print(\"\\nsignal events after m_aa selection:\", len(sig_electron_select)+len(sig_muon_select))\n",
    "print(\"background events after m_aa selection:\", len(bg_electron_select)+len(bg_muon_select))"
   ]
  },
  {
   "cell_type": "code",
   "execution_count": 9,
   "metadata": {},
   "outputs": [
    {
     "data": {
      "image/png": "[encoded data removed]",
      "text/plain": [
       "<Figure size 640x480 with 1 Axes>"
      ]
     },
     "metadata": {},
     "output_type": "display_data"
    }
   ],
   "source": [
    "eta = []\n",
    "bins = np.arange(-3.2,3.2,0.2)\n",
    "collect_eta(sig_electron_events, eta)\n",
    "collect_eta(sig_muon_events, eta)\n",
    "plt.hist(eta, label='signal eta', histtype='step', bins=bins, density=True)\n",
    "plt.xlabel(r\"$\\eta$\")\n",
    "plt.ylabel(r\"$\\frac{dN}{dx}$\")\n",
    "plt.legend(loc='best')\n",
    "plt.show()"
   ]
  },
  {
   "cell_type": "code",
   "execution_count": 10,
   "metadata": {},
   "outputs": [
    {
     "name": "stdout",
     "output_type": "stream",
     "text": [
      "In the 0 th of events:\n",
      "\n",
      "Electron : 2\n",
      "Electron.PT : [123.11786   39.839066]\n",
      "Electron.Phi : [-2.1357768 -2.1804755]\n",
      "Electron.Eta : [ 0.34956998 -0.85949844]\n",
      "Muon : 0\n",
      "Muon.PT : []\n",
      "Muon.Phi : []\n",
      "Muon.Eta : []\n",
      "Photon : 2\n",
      "Photon.PT : [89.416534 79.99459 ]\n",
      "Photon.Phi : [0.7120422 1.3334476]\n",
      "Photon.Eta : [-1.7562965 -2.2046888]\n"
     ]
    }
   ],
   "source": [
    "##### event information #####\n",
    "\n",
    "event_num = 0\n",
    "print(\"In the\", event_num, \"th of events:\\n\")\n",
    "for i in range(len(features)):\n",
    "    print(features[i], \":\", sig_electron_events[event_num][i])"
   ]
  },
  {
   "cell_type": "code",
   "execution_count": 11,
   "metadata": {},
   "outputs": [
    {
     "name": "stdout",
     "output_type": "stream",
     "text": [
      "In Luminosity = 300(fb^-1)\n",
      "significance: 791.5848836166391\n",
      "expectation signal events that Z=2: 5.97380739896103 \n",
      "expected significance: 2.0000000000575096\n",
      "\n",
      "upper limit of f_a: 82765.98443086533 (GeV)\n",
      "lower limit of g_azz: 8.58855246981043e-05 (GeV^-1)\n",
      "lower limit of g_azy: 4.0228291713204165e-05 (GeV^-1)\n",
      "\n",
      "significance with systematic uncertainty: 469.44021386829763\n",
      "expectation signal events with systematic uncertainty that Z=2: 6.263901392663209 \n",
      "expected significance with systematic uncertainty: 1.9999999999771338\n",
      "\n",
      "upper limit of f_a with systematic uncertainty: 80826.73522553493 (GeV)\n",
      "lower limit of g_azz with systematic uncertainty: 8.79461477710942e-05 (GeV^-1)\n",
      "lower limit of g_azy with systematic uncertainty: 4.119347585084065e-05 (GeV^-1)\n",
      "\n"
     ]
    }
   ],
   "source": [
    "##### calculate significance and parameter limit in Luminosity = 300(fb^-1) #####\n",
    "\n",
    "N_sim_sig = 10000\n",
    "N_sim_bg = 100000\n",
    "Nselected_sig = 1905\n",
    "Nselected_bg = 24\n",
    "Xsection_sig = 716.04242    ### unit:fb\n",
    "Xsection_bg = 99.09201    ### unit:fb\n",
    "Luminosity = 300    ### unit:fb^-1\n",
    "sim_f_a = 1000    ### unit:GeV\n",
    "C_Wtil = 2\n",
    "C_Btil = 1\n",
    "sin_W_square = 0.22290    ### sine square of Weinberg angle\n",
    "cos_W_square = 1-sin_W_square    ### cosine square of Weinberg angle\n",
    "\n",
    "print(\"In Luminosity = 300(fb^-1)\")\n",
    "\n",
    "s = Xsection_sig * (Nselected_sig/N_sim_sig) * Luminosity\n",
    "b = Xsection_bg * (Nselected_bg/N_sim_bg) * Luminosity\n",
    "\n",
    "Z = significance(s,b)\n",
    "print(\"significance:\", Z)\n",
    "\n",
    "exp_s = Z2(b)\n",
    "expected_Xsection = exp_s*(N_sim_sig/Nselected_sig)/Luminosity\n",
    "\n",
    "f_a_limit = sim_f_a*np.sqrt(Xsection_sig/expected_Xsection)\n",
    "g_azz_limit = 4*(C_Btil*sin_W_square+C_Wtil*cos_W_square)/f_a_limit\n",
    "g_azgamma_limit = 8*np.sqrt(sin_W_square)*np.sqrt(cos_W_square)*(C_Wtil-C_Btil)/f_a_limit\n",
    "print(\"\\nupper limit of f_a:\", f_a_limit, \"(GeV)\")\n",
    "print(\"lower limit of g_azz:\", g_azz_limit, \"(GeV^-1)\")\n",
    "print(\"lower limit of g_azy:\", g_azgamma_limit, \"(GeV^-1)\")\n",
    "\n",
    "error_Z = error_significance(s,b)\n",
    "print(\"\\nsignificance with systematic uncertainty:\", error_Z)\n",
    "error_exp_s = error_Z2(b)\n",
    "error_expected_Xsection = error_exp_s*(N_sim_sig/Nselected_sig)/Luminosity\n",
    "error_f_a_limit = sim_f_a*np.sqrt(Xsection_sig/error_expected_Xsection)\n",
    "error_g_azz_limit = 4*(C_Btil*sin_W_square+C_Wtil*cos_W_square)/error_f_a_limit\n",
    "error_g_azgamma_limit = 8*np.sqrt(sin_W_square)*np.sqrt(cos_W_square)*(C_Wtil-C_Btil)/error_f_a_limit\n",
    "print(\"\\nupper limit of f_a with systematic uncertainty:\", error_f_a_limit, \"(GeV)\")\n",
    "print(\"lower limit of g_azz with systematic uncertainty:\", error_g_azz_limit, \"(GeV^-1)\")\n",
    "print(\"lower limit of g_azy with systematic uncertainty:\", error_g_azgamma_limit, \"(GeV^-1)\\n\")"
   ]
  },
  {
   "cell_type": "code",
   "execution_count": 12,
   "metadata": {},
   "outputs": [
    {
     "name": "stdout",
     "output_type": "stream",
     "text": [
      "In Luminosity = 3000(fb^-1)\n",
      "significance: 2503.2111935878847\n",
      "expectation signal events that Z=2: 17.547620035812855 \n",
      "expected significance: 1.999999999978984\n",
      "\n",
      "upper limit of f_a: 152710.31825556717 (GeV)\n",
      "lower limit of g_azz: 4.654826262691557e-05 (GeV^-1)\n",
      "lower limit of g_azy: 2.1802941698040655e-05 (GeV^-1)\n",
      "\n",
      "significance with systematic uncertainty: 845.8342328274139\n",
      "expectation signal events with systematic uncertainty that Z=2: 23.746094699130758 \n",
      "expected significance with systematic uncertainty: 1.999999999996187\n",
      "\n",
      "upper limit of f_a with systematic uncertainty: 131274.8091239011 (GeV)\n",
      "lower limit of g_azz with systematic uncertainty: 5.414900274805107e-05 (GeV^-1)\n",
      "lower limit of g_azy with systematic uncertainty: 2.5363085178610697e-05 (GeV^-1)\n",
      "\n"
     ]
    }
   ],
   "source": [
    "##### calculate significance and parameter limit in Luminosity = 3000(fb^-1) #####\n",
    "\n",
    "Luminosity = 3000    ### unit:fb^-1\n",
    "print(\"In Luminosity = 3000(fb^-1)\")\n",
    "\n",
    "s = Xsection_sig * (Nselected_sig/N_sim_sig) * Luminosity\n",
    "b = Xsection_bg * (Nselected_bg/N_sim_bg) * Luminosity\n",
    "\n",
    "Z = significance(s,b)\n",
    "print(\"significance:\", Z)\n",
    "\n",
    "exp_s = Z2(b)\n",
    "expected_Xsection = exp_s*(N_sim_sig/Nselected_sig)/Luminosity\n",
    "\n",
    "f_a_limit = sim_f_a*np.sqrt(Xsection_sig/expected_Xsection)\n",
    "g_azz_limit = 4*(C_Btil*sin_W_square+C_Wtil*cos_W_square)/f_a_limit\n",
    "g_azgamma_limit = 8*np.sqrt(sin_W_square)*np.sqrt(cos_W_square)*(C_Wtil-C_Btil)/f_a_limit\n",
    "print(\"\\nupper limit of f_a:\", f_a_limit, \"(GeV)\")\n",
    "print(\"lower limit of g_azz:\", g_azz_limit, \"(GeV^-1)\")\n",
    "print(\"lower limit of g_azy:\", g_azgamma_limit, \"(GeV^-1)\")\n",
    "\n",
    "error_Z = error_significance(s,b)\n",
    "print(\"\\nsignificance with systematic uncertainty:\", error_Z)\n",
    "error_exp_s = error_Z2(b)\n",
    "error_expected_Xsection = error_exp_s*(N_sim_sig/Nselected_sig)/Luminosity\n",
    "error_f_a_limit = sim_f_a*np.sqrt(Xsection_sig/error_expected_Xsection)\n",
    "error_g_azz_limit = 4*(C_Btil*sin_W_square+C_Wtil*cos_W_square)/error_f_a_limit\n",
    "error_g_azgamma_limit = 8*np.sqrt(sin_W_square)*np.sqrt(cos_W_square)*(C_Wtil-C_Btil)/error_f_a_limit\n",
    "print(\"\\nupper limit of f_a with systematic uncertainty:\", error_f_a_limit, \"(GeV)\")\n",
    "print(\"lower limit of g_azz with systematic uncertainty:\", error_g_azz_limit, \"(GeV^-1)\")\n",
    "print(\"lower limit of g_azy with systematic uncertainty:\", error_g_azgamma_limit, \"(GeV^-1)\\n\")"
   ]
  },
  {
   "cell_type": "code",
   "execution_count": 13,
   "metadata": {},
   "outputs": [
    {
     "name": "stdout",
     "output_type": "stream",
     "text": [
      "start time: 1703052169.5230546\n",
      "end time: 1703052178.6487255\n",
      "duration: 9.125670909881592\n"
     ]
    }
   ],
   "source": [
    "t2 = time.time()\n",
    "print(\"start time:\", t1)\n",
    "print(\"end time:\", t2)\n",
    "print(\"duration:\", t2-t1)"
   ]
  },
  {
   "cell_type": "code",
   "execution_count": null,
   "metadata": {},
   "outputs": [],
   "source": []
  }
 ],
 "metadata": {
  "kernelspec": {
   "display_name": "Python 3 (ipykernel)",
   "language": "python",
   "name": "python3"
  },
  "language_info": {
   "codemirror_mode": {
    "name": "ipython",
    "version": 3
   },
   "file_extension": ".py",
   "mimetype": "text/x-python",
   "name": "python",
   "nbconvert_exporter": "python",
   "pygments_lexer": "ipython3",
   "version": "3.8.5"
  }
 },
 "nbformat": 4,
 "nbformat_minor": 4
}
